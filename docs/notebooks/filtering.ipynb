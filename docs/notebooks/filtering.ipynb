{
 "cells": [
  {
   "attachments": {},
   "cell_type": "markdown",
   "metadata": {},
   "source": [
    "# Filtering\n",
    "\n",
    "[![Open In Colab](https://colab.research.google.com/assets/colab-badge.svg)](https://colab.research.google.com/github/cbouy/mols2grid/blob/master/docs/notebooks/filtering.ipynb)\n",
    "\n",
    "It's possible to integrate the grid with other widgets to complement the searchbar."
   ]
  },
  {
   "cell_type": "code",
   "execution_count": null,
   "metadata": {},
   "outputs": [],
   "source": [
    "# uncomment and run if you're on Google Colab\n",
    "# !pip install rdkit mols2grid\n",
    "# !wget https://raw.githubusercontent.com/rdkit/rdkit/master/Docs/Book/data/solubility.test.sdf"
   ]
  },
  {
   "cell_type": "code",
   "execution_count": null,
   "metadata": {},
   "outputs": [],
   "source": [
    "from pathlib import Path\n",
    "\n",
    "from ipywidgets import interact, widgets\n",
    "from rdkit import RDConfig\n",
    "from rdkit.Chem import Descriptors\n",
    "\n",
    "import mols2grid\n",
    "\n",
    "\n",
    "SDF_FILE = (\n",
    "    f\"{RDConfig.RDDocsDir}/Book/data/solubility.test.sdf\"\n",
    "    if Path(RDConfig.RDDocsDir).is_dir()\n",
    "    else \"solubility.test.sdf\"\n",
    ")"
   ]
  },
  {
   "attachments": {},
   "cell_type": "markdown",
   "metadata": {},
   "source": [
    "We'll use ipywidgets to add sliders for the molecular weight and the other molecular descriptors, and define a function that queries the internal dataframe using the values in the sliders.\n",
    "\n",
    "Everytime the sliders are moved, the function is called to filter our grid."
   ]
  },
  {
   "cell_type": "code",
   "execution_count": null,
   "metadata": {},
   "outputs": [],
   "source": [
    "df = mols2grid.sdf_to_dataframe(SDF_FILE)\n",
    "# compute some descriptors\n",
    "df[\"MolWt\"] = df[\"mol\"].apply(Descriptors.ExactMolWt)\n",
    "df[\"LogP\"] = df[\"mol\"].apply(Descriptors.MolLogP)\n",
    "df[\"NumHDonors\"] = df[\"mol\"].apply(Descriptors.NumHDonors)\n",
    "df[\"NumHAcceptors\"] = df[\"mol\"].apply(Descriptors.NumHAcceptors)"
   ]
  },
  {
   "cell_type": "code",
   "execution_count": null,
   "metadata": {},
   "outputs": [],
   "source": [
    "grid = mols2grid.MolGrid(\n",
    "    df,\n",
    "    size=(120, 100),\n",
    "    name=\"filters\",\n",
    ")\n",
    "view = grid.display()\n",
    "\n",
    "\n",
    "@interact(\n",
    "    MolWt=widgets.IntRangeSlider(value=[0, 600], min=0, max=600, step=10),\n",
    "    LogP=widgets.IntRangeSlider(value=[-10, 10], min=-10, max=10, step=1),\n",
    "    NumHDonors=widgets.IntRangeSlider(value=[0, 20], min=0, max=20, step=1),\n",
    "    NumHAcceptors=widgets.IntRangeSlider(value=[0, 20], min=0, max=20, step=1),\n",
    ")\n",
    "def filter_grid(MolWt, LogP, NumHDonors, NumHAcceptors):\n",
    "    results = grid.dataframe.query(\n",
    "        \"@MolWt[0] <= MolWt <= @MolWt[1] and \"\n",
    "        \"@LogP[0] <= LogP <= @LogP[1] and \"\n",
    "        \"@NumHDonors[0] <= NumHDonors <= @NumHDonors[1] and \"\n",
    "        \"@NumHAcceptors[0] <= NumHAcceptors <= @NumHAcceptors[1]\"\n",
    "    )\n",
    "    return grid.filter_by_index(results.index)\n",
    "\n",
    "\n",
    "view"
   ]
  }
 ],
 "metadata": {
  "kernelspec": {
   "display_name": "Python 3.8.12 ('molgrid')",
   "language": "python",
   "name": "python3"
  },
  "language_info": {
   "codemirror_mode": {
    "name": "ipython",
    "version": 3
   },
   "file_extension": ".py",
   "mimetype": "text/x-python",
   "name": "python",
   "nbconvert_exporter": "python",
   "pygments_lexer": "ipython3",
   "version": "3.9.13"
  },
  "orig_nbformat": 4,
  "vscode": {
   "interpreter": {
    "hash": "634da3a3bbf8fbf1ddb65b0056d578c92f3c569db0da492ea274ae9d304e5b24"
   }
  }
 },
 "nbformat": 4,
 "nbformat_minor": 2
}
